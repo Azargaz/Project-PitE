{
 "cells": [
  {
   "cell_type": "code",
   "execution_count": 42,
   "metadata": {
    "pycharm": {
     "is_executing": false
    }
   },
   "outputs": [],
   "source": [
    "import torch\n",
    "import numpy as np\n",
    "import os, re\n",
    "REBUILD_DATA = False"
   ]
  },
  {
   "cell_type": "code",
   "execution_count": 46,
   "metadata": {
    "scrolled": true,
    "pycharm": {
     "is_executing": false
    }
   },
   "outputs": [
    {
     "name": "stdout",
     "text": [
      "airplane\n",
      "apple\n",
      "axe\n",
      "bird\n",
      "bus\n",
      "cake\n",
      "carrot\n",
      "fan\n",
      "guitar\n",
      "leaf\n"
     ],
     "output_type": "stream"
    }
   ],
   "source": [
    "\n",
    "class AI_model():\n",
    "    def __init__(self):\n",
    "        self.mypath = os.path.abspath('')\n",
    "        self.data = dict()\n",
    "        self.training_data = []    \n",
    "        self.onlyfiles = [f for f in os.listdir(self.mypath) if os.path.isfile(os.path.join(self.mypath, f)) and bool(re.match(r\"\\w*.npy\", f))]\n",
    "\n",
    "    def load_files(self):\n",
    "        for file in self.onlyfiles:\n",
    "            a = np.load(file)\n",
    "            f = file.split('_')\n",
    "            for st in f:\n",
    "                if re.match('\\w*.npy',st):\n",
    "                    name = st[:-4]\n",
    "                    self.data[name]=a #torch.from_numpy(a)\n",
    "        for key,val in self.data.items():\n",
    "            print(key)\n",
    "            \n",
    "    def make_training_data(self):\n",
    "        for key,val in self.data.items():\n",
    "            for image in val:\n",
    "                self.training_data.append([image,key])\n",
    "        np.random.shuffle(self.training_data)\n",
    "        np.save(\"training_data.npy\", self.training_data)\n",
    "        \n",
    "        \n",
    "if REBUILD_DATA:\n",
    "    model = AI_model()\n",
    "    model.load_files()\n",
    "    model.make_training_data()\n",
    "\n",
    "\n"
   ]
  },
  {
   "cell_type": "code",
   "execution_count": 47,
   "metadata": {
    "pycharm": {
     "is_executing": false
    }
   },
   "outputs": [
    {
     "name": "stdout",
     "text": [
      "1359791\n"
     ],
     "output_type": "stream"
    }
   ],
   "source": [
    "training_data = np.load(\"training_data.npy\", allow_pickle=True)\n",
    "print(len(training_data))"
   ]
  },
  {
   "cell_type": "code",
   "execution_count": 44,
   "metadata": {
    "pycharm": {
     "is_executing": false
    }
   },
   "outputs": [],
   "source": []
  }
 ],
 "metadata": {
  "kernelspec": {
   "display_name": "Python_labs",
   "language": "python",
   "name": "python_labs"
  },
  "language_info": {
   "codemirror_mode": {
    "name": "ipython",
    "version": 3
   },
   "file_extension": ".py",
   "mimetype": "text/x-python",
   "name": "python",
   "nbconvert_exporter": "python",
   "pygments_lexer": "ipython3",
   "version": "3.7.6"
  },
  "pycharm": {
   "stem_cell": {
    "cell_type": "raw",
    "source": [],
    "metadata": {
     "collapsed": false
    }
   }
  }
 },
 "nbformat": 4,
 "nbformat_minor": 2
}